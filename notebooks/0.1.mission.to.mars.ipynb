{
 "cells": [
  {
   "cell_type": "markdown",
   "metadata": {
    "collapsed": true
   },
   "source": [
    "In this Notebook file, we perfrom web scraping from [Nasa Mars News Site](https://mars.nasa.gov/news/?page=0&per_page=40&order=publish_date+desc%2Ccreated_at+desc&search=&category=19%2C165%2C184%2C204&blank_scope=Latest) and, collect and display the latest information on a single homepage."
   ]
  },
  {
   "cell_type": "code",
   "execution_count": 17,
   "metadata": {},
   "outputs": [],
   "source": [
    "# import dependencies\n",
    "import os, inspect, sys\n",
    "import time\n",
    "import requests\n",
    "import pandas as pd\n",
    "\n",
    "from bs4 import BeautifulSoup\n",
    "from splinter import Browser"
   ]
  },
  {
   "cell_type": "markdown",
   "metadata": {},
   "source": [
    "## Latest news title and paragraph text"
   ]
  },
  {
   "cell_type": "code",
   "execution_count": 18,
   "metadata": {},
   "outputs": [],
   "source": [
    "# set up spliter browser\n",
    "executable_path = {\"executable_path\": \"/usr/local/bin/chromedriver\"}\n",
    "with Browser(\"chrome\", **executable_path, headless=True) as browser:\n",
    "\n",
    "    # visit url\n",
    "    url = \"https://mars.nasa.gov/news/\"\n",
    "    browser.visit(url)\n",
    "\n",
    "    # pull html text\n",
    "    html = browser.html\n",
    "\n",
    "# parse html\n",
    "soup = BeautifulSoup(html, \"html.parser\")\n",
    "\n",
    "#grab needed info\n",
    "news_title = soup.find('div', class_=\"bottom_gradient\").text\n",
    "news_p = soup.find('div', class_=\"rollover_description_inner\").text"
   ]
  },
  {
   "cell_type": "markdown",
   "metadata": {},
   "source": [
    "## Latest featured images"
   ]
  },
  {
   "cell_type": "code",
   "execution_count": 19,
   "metadata": {},
   "outputs": [],
   "source": [
    "# set up splinter browser\n",
    "with Browser(\"chrome\", **executable_path, headless=False) as browser:\n",
    "    # featured image url\n",
    "    url = \"https://www.jpl.nasa.gov/spaceimages/?search=&category=Mars\"\n",
    "    browser.visit(url)\n",
    "    time.sleep(4)\n",
    "    #navigate to link\n",
    "    browser.click_link_by_partial_text(\"FULL IMAGE\")\n",
    "    time.sleep(2)\n",
    "\n",
    "    browser.click_link_by_partial_text(\"more info\")\n",
    "\n",
    "    # pull/off-load html text\n",
    "    html = browser.html\n",
    "\n",
    "# parse html\n",
    "soup = BeautifulSoup(html, \"html.parser\")\n",
    "\n",
    "# grab the image path\n",
    "image_path = soup.find('figure', class_='lede').a['href']\n",
    "# make the full path\n",
    "featured_image_url = \"https://www.jpl.nasa.gov/\" + image_path\n",
    "\n",
    "\n",
    "# # grab the image path\n",
    "# image_path = soup.find(\"div\", {\"class\": \"download_tiff\"}).p.a[\"href\"]\n",
    "# # make the full path\n",
    "# featured_image_url = \"https://www.jpl.nasa.gov/\" + image_path\n"
   ]
  },
  {
   "cell_type": "markdown",
   "metadata": {},
   "source": [
    "## Latest weather"
   ]
  },
  {
   "cell_type": "code",
   "execution_count": 20,
   "metadata": {},
   "outputs": [],
   "source": [
    "with Browser(\"chrome\", **executable_path, headless=False) as browser:\n",
    "    url = \"https://twitter.com/marswxreport?lang=en\"\n",
    "    browser.visit(url)\n",
    "    \n",
    "    # pull/off-load html text\n",
    "    html = browser.html\n",
    "\n",
    "# parse html    \n",
    "soup = BeautifulSoup(html, \"html.parser\")\n",
    "# grab latest tweet\n",
    "mars_weather = soup.find(\"p\", \n",
    "                         {\"class\": \"TweetTextSize TweetTextSize--normal js-tweet-text tweet-text\"}\n",
    "                        ).text"
   ]
  },
  {
   "cell_type": "markdown",
   "metadata": {},
   "source": [
    "## Mars facts"
   ]
  },
  {
   "cell_type": "code",
   "execution_count": 3,
   "metadata": {},
   "outputs": [],
   "source": [
    "with Browser(\"chrome\", **executable_path, headless=False) as browser:\n",
    "    url = \"https://space-facts.com/mars/\"\n",
    "    browser.visit(url)\n",
    "    \n",
    "    # pull/off-load html text\n",
    "    html = browser.html\n",
    "\n",
    "# parse html\n",
    "soup = BeautifulSoup(html, \"html.parser\")\n",
    "#get the entire table\n",
    "facts_table = soup.find('table',\n",
    "                        {\"class\": \"tablepress tablepress-id-mars\"}\n",
    "                       ).find_all(\"tr\")\n",
    "\n",
    "facts_dict = dict(label=[], value=[])\n",
    "for tr in facts_table:\n",
    "    elements = tr.find_all(\"td\")\n",
    "    facts_dict[\"label\"].append(elements[0].text)\n",
    "    facts_dict[\"value\"].append(elements[1].text)\n",
    "       \n",
    "facts_df = pd.DataFrame(facts_dict)\n",
    "facts_html = facts_df.to_html(header=False, index=False)"
   ]
  },
  {
   "cell_type": "markdown",
   "metadata": {},
   "source": [
    "## Mars hemispheres"
   ]
  },
  {
   "cell_type": "code",
   "execution_count": 25,
   "metadata": {},
   "outputs": [
    {
     "name": "stdout",
     "output_type": "stream",
     "text": [
      "[{'title': 'Cerberus Hemisphere Enhanced', 'image_url': 'http://astropedia.astrogeology.usgs.gov/download/Mars/Viking/cerberus_enhanced.tif/full.jpg'}, {'title': 'Schiaparelli Hemisphere Enhanced', 'image_url': 'http://astropedia.astrogeology.usgs.gov/download/Mars/Viking/schiaparelli_enhanced.tif/full.jpg'}, {'title': 'Syrtis Major Hemisphere Enhanced', 'image_url': 'http://astropedia.astrogeology.usgs.gov/download/Mars/Viking/syrtis_major_enhanced.tif/full.jpg'}, {'title': 'Valles Marineris Hemisphere Enhanced', 'image_url': 'http://astropedia.astrogeology.usgs.gov/download/Mars/Viking/valles_marineris_enhanced.tif/full.jpg'}]\n"
     ]
    }
   ],
   "source": [
    "with Browser(\"chrome\", **executable_path, headless=False) as browser:\n",
    "    url = \"https://astrogeology.usgs.gov/search/results?q=hemisphere+enhanced&k1=target&v1=Mars\"\n",
    "    browser.visit(url)\n",
    "    time.sleep(5)\n",
    "    \n",
    "    # pull/off-load html text\n",
    "    html = browser.html\n",
    "    # parse html\n",
    "    soup = BeautifulSoup(html, \"html.parser\")\n",
    "    \n",
    "    # get class holding hemisphere picture\n",
    "    collapsible_results = soup.find(\"div\", {\"class\": \"collapsible results\"})\n",
    "    hemispheres = collapsible_results.find_all(\"div\", {\"class\": \"description\"})\n",
    "    \n",
    "    hemisphere_image_urls = []\n",
    "    \n",
    "    for item in hemispheres:\n",
    "        # get title\n",
    "        title = item.a.h3.text\n",
    "        # get link to hemisphere page\n",
    "        url_item = \"https://astrogeology.usgs.gov\" + item.a['href']\n",
    "        \n",
    "        #  pull/off-load heml text \n",
    "        browser.visit(url_item)\n",
    "        time.sleep(1)\n",
    "        \n",
    "        # off-load html text\n",
    "        html_item = browser.html\n",
    "        # parse html\n",
    "        soup_item = BeautifulSoup(html_item, 'html.parser')\n",
    "        image_url = soup_item.find('div', {\"class\": \"downloads\"}).find('li').a['href']\n",
    "        \n",
    "        hemisphere_image_urls.append(dict(title= title, image_url= image_url))\n",
    "        # check on the retrieved link\n",
    "        browser.visit(image_url)\n",
    "        time.sleep(5)\n",
    "\n",
    "hemisphere_image_urls"
   ]
  }
 ],
 "metadata": {
  "kernelspec": {
   "display_name": "Python 3",
   "language": "python",
   "name": "python3"
  },
  "language_info": {
   "codemirror_mode": {
    "name": "ipython",
    "version": 3
   },
   "file_extension": ".py",
   "mimetype": "text/x-python",
   "name": "python",
   "nbconvert_exporter": "python",
   "pygments_lexer": "ipython3",
   "version": "3.6.6"
  }
 },
 "nbformat": 4,
 "nbformat_minor": 1
}
