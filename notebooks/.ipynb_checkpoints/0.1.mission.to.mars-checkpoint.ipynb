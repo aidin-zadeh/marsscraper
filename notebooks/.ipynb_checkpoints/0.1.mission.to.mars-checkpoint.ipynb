{
 "cells": [
  {
   "cell_type": "markdown",
   "metadata": {
    "collapsed": true
   },
   "source": [
    "In this Notebook file, we perfrom web scraping from [Nasa Mars News Site](https://mars.nasa.gov/news/?page=0&per_page=40&order=publish_date+desc%2Ccreated_at+desc&search=&category=19%2C165%2C184%2C204&blank_scope=Latest) and, collect and display the latest information on a single homepage."
   ]
  },
  {
   "cell_type": "code",
   "execution_count": 1,
   "metadata": {},
   "outputs": [],
   "source": [
    "# import dependencies\n",
    "import os, inspect, sys\n",
    "import time\n",
    "import requests\n",
    "import pandas as pd\n",
    "\n",
    "from bs4 import BeautifulSoup\n",
    "from splinter import Browser"
   ]
  },
  {
   "cell_type": "markdown",
   "metadata": {},
   "source": [
    "## Latest news title and paragraph text"
   ]
  },
  {
   "cell_type": "code",
   "execution_count": 9,
   "metadata": {},
   "outputs": [],
   "source": [
    "# set up spliter browser\n",
    "executable_path = {\"executable_path\": \"/usr/local/bin/chromedriver\"}\n",
    "with Browser(\"chrome\", **executable_path, headless=True) as browser:\n",
    "\n",
    "    # visit url\n",
    "    url = \"https://mars.nasa.gov/news/\"\n",
    "    browser.visit(url)\n",
    "\n",
    "    # pull html text\n",
    "    html_code = browser.html\n",
    "\n",
    "# parse html\n",
    "soup = BeautifulSoup(html_code, \"html.parser\")\n",
    "\n",
    "#grab needed info\n",
    "news_title = soup.find('div', class_=\"bottom_gradient\").text\n",
    "news_p = soup.find('div', class_=\"rollover_description_inner\").text"
   ]
  },
  {
   "cell_type": "markdown",
   "metadata": {},
   "source": [
    "## Latest featured images"
   ]
  },
  {
   "cell_type": "code",
   "execution_count": 10,
   "metadata": {},
   "outputs": [],
   "source": [
    "# set up splinter browser\n",
    "with Browser(\"chrome\", **executable_path, headless=False) as browser:\n",
    "    # featured image url\n",
    "    url = \"https://www.jpl.nasa.gov/spaceimages/?search=&category=Mars\"\n",
    "    browser.visit(url)\n",
    "    time.sleep(4)\n",
    "    #navigate to link\n",
    "    browser.click_link_by_partial_text(\"FULL IMAGE\")\n",
    "    time.sleep(4)\n",
    "\n",
    "    browser.click_link_by_partial_text(\"more info\")\n",
    "\n",
    "    # pull/off-load html text\n",
    "    image_html = browser.html\n",
    "\n",
    "# parse html\n",
    "soup = BeautifulSoup(image_html, \"html.parser\")\n",
    "\n",
    "# grab the image path\n",
    "image_path = soup.find('figure', class_='lede').a['href']\n",
    "# make the full path\n",
    "featured_image_url = \"https://www.jpl.nasa.gov/\" + image_path\n",
    "\n",
    "\n",
    "# # grab the image path\n",
    "# image_path = soup.find(\"div\", {\"class\": \"download_tiff\"}).p.a[\"href\"]\n",
    "# # make the full path\n",
    "# featured_image_url = \"https://www.jpl.nasa.gov/\" + image_path\n"
   ]
  },
  {
   "cell_type": "markdown",
   "metadata": {},
   "source": [
    "## Latest weather"
   ]
  },
  {
   "cell_type": "code",
   "execution_count": 12,
   "metadata": {},
   "outputs": [],
   "source": [
    "with Browser(\"chrome\", **executable_path, headless=False) as browser:\n",
    "    url = \"https://twitter.com/marswxreport?lang=en\"\n",
    "    browser.visit(url)\n",
    "    \n",
    "    # pull/off-load html text\n",
    "    weather_html = browser.html\n",
    "\n",
    "# parse html    \n",
    "soup = BeautifulSoup(weather_html, \"html.parser\")\n",
    "# grab latest tweet\n",
    "mars_weather = soup.find(\"p\", \n",
    "                         {\"class\": \"TweetTextSize TweetTextSize--normal js-tweet-text tweet-text\"}\n",
    "                        ).text"
   ]
  },
  {
   "cell_type": "markdown",
   "metadata": {},
   "source": [
    "## Mars facts"
   ]
  },
  {
   "cell_type": "code",
   "execution_count": 18,
   "metadata": {},
   "outputs": [],
   "source": [
    "with Browser(\"chrome\", **executable_path, headless=False) as browser:\n",
    "    url = \"https://space-facts.com/mars/\"\n",
    "    browser.visit(url)\n",
    "    \n",
    "    # pull/off-load html text\n",
    "    html = browser.html\n",
    "\n",
    "# parse html\n",
    "soup = BeautifulSoup(html, \"html.parser\")\n",
    "\n",
    "#get the entire table\n",
    "facts_table = soup.find('table',\n",
    "                        {\"class\": \"tablepress tablepress-id-mars\"}\n",
    "                       ).find_all(\"tr\")\n",
    "\n",
    "facts_dict = dict(label=[], value=[])\n",
    "for tr in facts_table:\n",
    "    elements = tr.find_all(\"td\")\n",
    "    facts_dict[\"label\"].append(elements[0].text)\n",
    "    facts_dict[\"value\"].append(elements[1].text)\n",
    "       \n",
    "facts_df = pd.DataFrame(facts_dict)\n",
    "facts_html = facts_df.to_html(header=False, index=False)"
   ]
  },
  {
   "cell_type": "markdown",
   "metadata": {},
   "source": [
    "## Mars hemispheres"
   ]
  },
  {
   "cell_type": "code",
   "execution_count": null,
   "metadata": {},
   "outputs": [],
   "source": [
    "with Browser(\"chrome\", **executable_path, headless=False) as browser:\n",
    "    url = \"https://astrogeology.usgs.gov/search/results?q=hemisphere+enhanced&k1=target&v1=Mars\"\n",
    "    browser.visit(url)\n",
    "    time.sleep(5)\n",
    "    \n",
    "    # pull/off-load html text\n",
    "    html = browser.html\n",
    "    # parse html\n",
    "    soup = BeautifulSoup(html, \"html.parser\")\n",
    "    \n",
    "    # get class holding hemisphere picture\n",
    "    returns = soup.find('div', {\"class\": \"item\"})\n",
    "    hemispheres = returns.find_all('a')\n",
    "    \n",
    "    for a in hemispheres:\n",
    "        print(a)\n",
    "        # get title\n",
    "#         title = a.h3.text\n",
    "        # get link to hemisphere page\n",
    "        link = \"https://astrogeology.usgs.gov\" + a['href']\n",
    "        \n",
    "        #  pull/off-load heml text \n",
    "        browser.visit(link)\n",
    "        time.sleep(1)\n",
    "\n",
    "    #setup list to hold dictionaries\n",
    "#     hemisphere_image_urls =[]\n",
    "\n",
    "#     for a in hemispheres:\n",
    "#         #get title and link from main page\n",
    "#         title = a.h3.text\n",
    "#         link = \"https://astrogeology.usgs.gov\" + a['href']\n",
    "\n",
    "#         #follow link from each page\n",
    "#         browser.visit(link)\n",
    "#         time.sleep(5)\n",
    "\n",
    "#         #get image links\n",
    "#         image_page = browser.html\n",
    "#         results = BeautifulSoup(image_page, 'html.parser')\n",
    "#         img_link = results.find('div', class_='downloads').find('li').a['href']\n",
    "\n",
    "#         # create image dictionary for each image and title\n",
    "#         image_dict = {}\n",
    "#         image_dict['title'] = title\n",
    "#         image_dict['img_url'] = img_link\n",
    "\n",
    "#         hemisphere_image_urls.append(image_dict)\n",
    "\n",
    "#     print(hemisphere_image_urls)"
   ]
  },
  {
   "cell_type": "code",
   "execution_count": 47,
   "metadata": {},
   "outputs": [
    {
     "data": {
      "text/plain": [
       "<a class=\"itemLink product-item\" href=\"/search/map/Mars/Viking/cerberus_enhanced\"><img alt=\"Cerberus Hemisphere Enhanced thumbnail\" class=\"thumb\" src=\"/cache/images/dfaf3849e74bf973b59eb50dab52b583_cerberus_enhanced.tif_thumb.png\"/></a>"
      ]
     },
     "execution_count": 47,
     "metadata": {},
     "output_type": "execute_result"
    }
   ],
   "source": [
    "a\n",
    "a"
   ]
  },
  {
   "cell_type": "code",
   "execution_count": 43,
   "metadata": {},
   "outputs": [
    {
     "data": {
      "text/plain": [
       "['itemLink', 'product-item']"
      ]
     },
     "execution_count": 43,
     "metadata": {},
     "output_type": "execute_result"
    }
   ],
   "source": [
    "a[\"class\"]"
   ]
  },
  {
   "cell_type": "code",
   "execution_count": 38,
   "metadata": {},
   "outputs": [
    {
     "data": {
      "text/plain": [
       "'https://astrogeology.usgs.gov/search/map/Mars/Viking/cerberus_enhanced'"
      ]
     },
     "execution_count": 38,
     "metadata": {},
     "output_type": "execute_result"
    }
   ],
   "source": [
    "\"https://astrogeology.usgs.gov\" + hemispheres[0]['href']"
   ]
  },
  {
   "cell_type": "code",
   "execution_count": null,
   "metadata": {},
   "outputs": [],
   "source": []
  }
 ],
 "metadata": {
  "kernelspec": {
   "display_name": "Python 3",
   "language": "python",
   "name": "python3"
  },
  "language_info": {
   "codemirror_mode": {
    "name": "ipython",
    "version": 3
   },
   "file_extension": ".py",
   "mimetype": "text/x-python",
   "name": "python",
   "nbconvert_exporter": "python",
   "pygments_lexer": "ipython3",
   "version": "3.6.6"
  }
 },
 "nbformat": 4,
 "nbformat_minor": 1
}
